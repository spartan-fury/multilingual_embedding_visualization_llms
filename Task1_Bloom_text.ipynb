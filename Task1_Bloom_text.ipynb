{
  "nbformat": 4,
  "nbformat_minor": 0,
  "metadata": {
    "colab": {
      "provenance": [],
      "gpuType": "T4"
    },
    "kernelspec": {
      "name": "python3",
      "display_name": "Python 3"
    },
    "language_info": {
      "name": "python"
    },
    "accelerator": "GPU"
  },
  "cells": [
    {
      "cell_type": "code",
      "execution_count": 14,
      "metadata": {
        "colab": {
          "base_uri": "https://localhost:8080/"
        },
        "id": "fSVf3oOVOWtO",
        "outputId": "e3e4ad4c-d7da-496e-fbd4-2c266f83a563"
      },
      "outputs": [
        {
          "output_type": "stream",
          "name": "stdout",
          "text": [
            "Requirement already satisfied: transformers in /usr/local/lib/python3.10/dist-packages (4.40.2)\n",
            "Requirement already satisfied: filelock in /usr/local/lib/python3.10/dist-packages (from transformers) (3.14.0)\n",
            "Requirement already satisfied: huggingface-hub<1.0,>=0.19.3 in /usr/local/lib/python3.10/dist-packages (from transformers) (0.20.3)\n",
            "Requirement already satisfied: numpy>=1.17 in /usr/local/lib/python3.10/dist-packages (from transformers) (1.25.2)\n",
            "Requirement already satisfied: packaging>=20.0 in /usr/local/lib/python3.10/dist-packages (from transformers) (24.0)\n",
            "Requirement already satisfied: pyyaml>=5.1 in /usr/local/lib/python3.10/dist-packages (from transformers) (6.0.1)\n",
            "Requirement already satisfied: regex!=2019.12.17 in /usr/local/lib/python3.10/dist-packages (from transformers) (2023.12.25)\n",
            "Requirement already satisfied: requests in /usr/local/lib/python3.10/dist-packages (from transformers) (2.31.0)\n",
            "Requirement already satisfied: tokenizers<0.20,>=0.19 in /usr/local/lib/python3.10/dist-packages (from transformers) (0.19.1)\n",
            "Requirement already satisfied: safetensors>=0.4.1 in /usr/local/lib/python3.10/dist-packages (from transformers) (0.4.3)\n",
            "Requirement already satisfied: tqdm>=4.27 in /usr/local/lib/python3.10/dist-packages (from transformers) (4.66.4)\n",
            "Requirement already satisfied: fsspec>=2023.5.0 in /usr/local/lib/python3.10/dist-packages (from huggingface-hub<1.0,>=0.19.3->transformers) (2023.6.0)\n",
            "Requirement already satisfied: typing-extensions>=3.7.4.3 in /usr/local/lib/python3.10/dist-packages (from huggingface-hub<1.0,>=0.19.3->transformers) (4.11.0)\n",
            "Requirement already satisfied: charset-normalizer<4,>=2 in /usr/local/lib/python3.10/dist-packages (from requests->transformers) (3.3.2)\n",
            "Requirement already satisfied: idna<4,>=2.5 in /usr/local/lib/python3.10/dist-packages (from requests->transformers) (3.7)\n",
            "Requirement already satisfied: urllib3<3,>=1.21.1 in /usr/local/lib/python3.10/dist-packages (from requests->transformers) (2.0.7)\n",
            "Requirement already satisfied: certifi>=2017.4.17 in /usr/local/lib/python3.10/dist-packages (from requests->transformers) (2024.2.2)\n"
          ]
        }
      ],
      "source": [
        "!pip install transformers"
      ]
    },
    {
      "cell_type": "code",
      "source": [
        "# Load model directly\n",
        "from transformers import AutoTokenizer, AutoModelForCausalLM\n",
        "import torch\n",
        "torch.set_default_tensor_type(torch.cuda.FloatTensor)\n",
        "tokenizer = AutoTokenizer.from_pretrained(\"bigscience/bloom-1b7\")\n",
        "model = AutoModelForCausalLM.from_pretrained(\"bigscience/bloom-1b7\")"
      ],
      "metadata": {
        "id": "CzgB-ixoOZpN",
        "colab": {
          "base_uri": "https://localhost:8080/"
        },
        "outputId": "94c4fda5-1a52-4436-a4f5-1a24bcf11b63"
      },
      "execution_count": 15,
      "outputs": [
        {
          "output_type": "stream",
          "name": "stderr",
          "text": [
            "/usr/local/lib/python3.10/dist-packages/torch/__init__.py:696: UserWarning: torch.set_default_tensor_type() is deprecated as of PyTorch 2.1, please use torch.set_default_dtype() and torch.set_default_device() as alternatives. (Triggered internally at ../torch/csrc/tensor/python_tensor.cpp:451.)\n",
            "  _C._set_default_tensor_type(t)\n"
          ]
        }
      ]
    },
    {
      "cell_type": "code",
      "source": [
        "model.__class__.__name__"
      ],
      "metadata": {
        "id": "B-wcQp1DOeLP",
        "colab": {
          "base_uri": "https://localhost:8080/",
          "height": 36
        },
        "outputId": "deb5bdef-9a6b-4527-a3b3-e513c127f1da"
      },
      "execution_count": 16,
      "outputs": [
        {
          "output_type": "execute_result",
          "data": {
            "text/plain": [
              "'BloomForCausalLM'"
            ],
            "application/vnd.google.colaboratory.intrinsic+json": {
              "type": "string"
            }
          },
          "metadata": {},
          "execution_count": 16
        }
      ]
    },
    {
      "cell_type": "code",
      "source": [
        "prompt='What is impact of AI in music industry'\n",
        "input_tokens = tokenizer(prompt, return_tensors=\"pt\")"
      ],
      "metadata": {
        "id": "FlDQIXlyiY6b"
      },
      "execution_count": 32,
      "outputs": []
    },
    {
      "cell_type": "code",
      "source": [
        "input_tokens"
      ],
      "metadata": {
        "colab": {
          "base_uri": "https://localhost:8080/"
        },
        "id": "LhNhairgi0ar",
        "outputId": "97706b97-69f7-4985-b486-22737c316081"
      },
      "execution_count": 33,
      "outputs": [
        {
          "output_type": "execute_result",
          "data": {
            "text/plain": [
              "{'input_ids': tensor([[10560,   632, 17395,   461, 75299,   361, 23444, 31175]]), 'attention_mask': tensor([[1, 1, 1, 1, 1, 1, 1, 1]])}"
            ]
          },
          "metadata": {},
          "execution_count": 33
        }
      ]
    },
    {
      "cell_type": "code",
      "source": [
        "outputs = model.generate(**input_tokens, labels=input_tokens[\"input_ids\"],do_sample=True, max_length=300,top_k=50,top_p=0.9)"
      ],
      "metadata": {
        "id": "EVIAzxzeikYF"
      },
      "execution_count": 37,
      "outputs": []
    },
    {
      "cell_type": "code",
      "source": [
        "outputs"
      ],
      "metadata": {
        "colab": {
          "base_uri": "https://localhost:8080/"
        },
        "id": "cOI10B7Q0V6k",
        "outputId": "180d7e8b-5e09-4c4e-99e3-5b4a6e16841e"
      },
      "execution_count": 38,
      "outputs": [
        {
          "output_type": "execute_result",
          "data": {
            "text/plain": [
              "tensor([[ 10560,    632,  17395,    461,  75299,    361,  23444,  31175,     34,\n",
              "           2395,  10966,   1306,    368,  55786,    361,  59321,  75299,    361,\n",
              "            368,  23444,  31175,   1021,  13440,    632,    660,  32034,   3423,\n",
              "            613,  75299,    361,  23444,  31175,     17,   1004,   5919,     15,\n",
              "            661,    718,    632,  28950,     15,    368,  23444,  31175,    632,\n",
              "          59076,    267,   5334,    461,  55786,     17,  14831,   5067,  45578,\n",
              "            632,   4143,    427,  17691,   1002,    368,  55786,  19870,   1002,\n",
              "          14773,   6926,     17,   1387,  23444,  31175,    632,  52996,    664,\n",
              "          14773,  28770,     15,    661,   6084,    461,    368,  91113,   1542,\n",
              "          17158,  14773,     17,  16883,  91113,   1306,  52996,    664,    368,\n",
              "          17727,    613,   3808,  18210,    530,    613,    368,  23444,  31175,\n",
              "             15,    718,    632,   1130,    660,  12669,     17,  12298,     15,\n",
              "            368,  23444,  31175,    632,  11226,  32312,   6242,     15,    530,\n",
              "           6084,    461,    368,  40305,   1306,   8348,  52996,    664,  42281,\n",
              "          10925,    461,  20978,    530,  55233,    461,    368,  23444,     17,\n",
              "           1004,  18464,    427,   1119,     15,    368,  31175,    632,   1130,\n",
              "          14773,   6242,  17123,     15,    530,   1119,  40265,    427,  55786,\n",
              "             17,   5070,  11830,     15,  23444,   2214,  12443,   1306,   3466,\n",
              "          52996,    664,  42281,   9890,    361,    368,  31175,    613,   3808,\n",
              "          18210,    530,    427,  25608,   3808,  23444,   1002,    368,   2470,\n",
              "            336,   2175,  23444,  31175,    632,   3466,  52996,    664,  42281,\n",
              "          57988,    461,  20978,    613,   3808,  18210,     15,    661,    368,\n",
              "          17727,    632,   1130,    267,  81313,  34196,     17,  34253,     15,\n",
              "           6084,    461,    368,  91113,  10400,    664,  42281,   9890,    361,\n",
              "            368,  31175,     15,   5067,    661,  17048,    530,  14103,     17,\n",
              "           3904,  10925,    861,    368,  31175,    632,   3466,  52996,    664,\n",
              "          42281,  57988,    361,   7092,    427,  23159,    267,  29861,  72344,\n",
              "             17,  61186,     15,    368,  55786,  89730,   1331,    368,  23444,\n",
              "          31175,   1306,  17251,    427,   4143,    427,  17691,   1002,  14773,\n",
              "           6926,     17,  35672,   6926,    632,    368,  79230,    461,  11806,\n",
              "          28770,     17,   3162, 104615,  91113,    427,  23159,    267,   4936,\n",
              "          98984,  72344,     17,  61186,     15,  14773,   6926,   2152,    722,\n",
              "            368,  14119,    461,  23444,    361,    368,  26201,   8621,     17,\n",
              "           8917,    632,    267]])"
            ]
          },
          "metadata": {},
          "execution_count": 38
        }
      ]
    },
    {
      "cell_type": "code",
      "source": [
        "tokenizer.decode(outputs[0])"
      ],
      "metadata": {
        "colab": {
          "base_uri": "https://localhost:8080/",
          "height": 254
        },
        "id": "bHocuRHmy0GD",
        "outputId": "74e56f20-3753-4898-f28f-6c2278a33ba2"
      },
      "execution_count": 39,
      "outputs": [
        {
          "output_type": "execute_result",
          "data": {
            "text/plain": [
              "'What is impact of AI in music industry? – What are the challenges in implementing AI in the music industry?\\nThere is an obvious need for AI in music industry. In fact, as it is mentioned, the music industry is facing a number of challenges. One such challenge is how to deal with the challenges associated with digitalization. The music industry is dependent on digital technology, as most of the businesses have become digital. These businesses are dependent on the internet for their business and for the music industry, it is not an option. However, the music industry is already digitized, and most of the companies are still dependent on traditional means of communication and delivery of the music. In addition to this, the industry is not digitalized enough, and this leads to challenges. For instance, music creators are also dependent on traditional media in the industry for their business and to share their music with the public.\\nThe music industry is also dependent on traditional channels of communication for their business, as the internet is not a viable alternative. Therefore, most of the businesses depend on traditional media in the industry, such as radio and TV. This means that the industry is also dependent on traditional channels in order to reach a larger audience. Hence, the challenges faced by the music industry are related to how to deal with digitalization. Digitalization is the trend of modern technology. It enables businesses to reach a much wider audience. Hence, digitalization will be the future of music in the coming years. There is a'"
            ],
            "application/vnd.google.colaboratory.intrinsic+json": {
              "type": "string"
            }
          },
          "metadata": {},
          "execution_count": 39
        }
      ]
    },
    {
      "cell_type": "code",
      "source": [],
      "metadata": {
        "id": "rFZublHozgir"
      },
      "execution_count": 39,
      "outputs": []
    }
  ]
}